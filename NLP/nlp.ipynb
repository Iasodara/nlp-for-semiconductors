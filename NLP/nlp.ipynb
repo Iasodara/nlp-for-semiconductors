{
 "cells": [
  {
   "cell_type": "markdown",
   "metadata": {},
   "source": [
    "## Installing the SpaCy library (the most important library wich we will use)"
   ]
  },
  {
   "cell_type": "code",
   "execution_count": 3,
   "metadata": {},
   "outputs": [
    {
     "name": "stdout",
     "output_type": "stream",
     "text": [
      "Defaulting to user installation because normal site-packages is not writeableNote: you may need to restart the kernel to use updated packages.\n"
     ]
    },
    {
     "name": "stderr",
     "output_type": "stream",
     "text": [
      "\n",
      "[notice] A new release of pip is available: 23.3.1 -> 25.0.1\n",
      "[notice] To update, run: python.exe -m pip install --upgrade pip\n"
     ]
    },
    {
     "name": "stdout",
     "output_type": "stream",
     "text": [
      "\n",
      "Requirement already satisfied: spacy==3.* in c:\\users\\vinicius23011\\appdata\\roaming\\python\\python310\\site-packages (3.8.4)\n",
      "Requirement already satisfied: spacy-legacy<3.1.0,>=3.0.11 in c:\\users\\vinicius23011\\appdata\\roaming\\python\\python310\\site-packages (from spacy==3.*) (3.0.12)\n",
      "Requirement already satisfied: spacy-loggers<2.0.0,>=1.0.0 in c:\\users\\vinicius23011\\appdata\\roaming\\python\\python310\\site-packages (from spacy==3.*) (1.0.5)\n",
      "Requirement already satisfied: murmurhash<1.1.0,>=0.28.0 in c:\\users\\vinicius23011\\appdata\\roaming\\python\\python310\\site-packages (from spacy==3.*) (1.0.12)\n",
      "Requirement already satisfied: cymem<2.1.0,>=2.0.2 in c:\\users\\vinicius23011\\appdata\\roaming\\python\\python310\\site-packages (from spacy==3.*) (2.0.11)\n",
      "Requirement already satisfied: preshed<3.1.0,>=3.0.2 in c:\\users\\vinicius23011\\appdata\\roaming\\python\\python310\\site-packages (from spacy==3.*) (3.0.9)\n",
      "Requirement already satisfied: thinc<8.4.0,>=8.3.4 in c:\\users\\vinicius23011\\appdata\\roaming\\python\\python310\\site-packages (from spacy==3.*) (8.3.4)\n",
      "Requirement already satisfied: wasabi<1.2.0,>=0.9.1 in c:\\users\\vinicius23011\\appdata\\roaming\\python\\python310\\site-packages (from spacy==3.*) (1.1.3)\n",
      "Requirement already satisfied: srsly<3.0.0,>=2.4.3 in c:\\users\\vinicius23011\\appdata\\roaming\\python\\python310\\site-packages (from spacy==3.*) (2.5.1)\n",
      "Requirement already satisfied: catalogue<2.1.0,>=2.0.6 in c:\\users\\vinicius23011\\appdata\\roaming\\python\\python310\\site-packages (from spacy==3.*) (2.0.10)\n",
      "Requirement already satisfied: weasel<0.5.0,>=0.1.0 in c:\\users\\vinicius23011\\appdata\\roaming\\python\\python310\\site-packages (from spacy==3.*) (0.4.1)\n",
      "Requirement already satisfied: typer<1.0.0,>=0.3.0 in c:\\users\\vinicius23011\\appdata\\roaming\\python\\python310\\site-packages (from spacy==3.*) (0.15.2)\n",
      "Requirement already satisfied: tqdm<5.0.0,>=4.38.0 in c:\\users\\vinicius23011\\appdata\\roaming\\python\\python310\\site-packages (from spacy==3.*) (4.66.1)\n",
      "Requirement already satisfied: numpy>=1.19.0 in c:\\users\\vinicius23011\\appdata\\roaming\\python\\python310\\site-packages (from spacy==3.*) (1.26.2)\n",
      "Requirement already satisfied: requests<3.0.0,>=2.13.0 in c:\\program files\\python310\\lib\\site-packages (from spacy==3.*) (2.28.1)\n",
      "Requirement already satisfied: pydantic!=1.8,!=1.8.1,<3.0.0,>=1.7.4 in c:\\users\\vinicius23011\\appdata\\roaming\\python\\python310\\site-packages (from spacy==3.*) (2.10.6)\n",
      "Requirement already satisfied: jinja2 in c:\\program files\\python310\\lib\\site-packages (from spacy==3.*) (3.1.2)\n",
      "Requirement already satisfied: setuptools in c:\\program files\\python310\\lib\\site-packages (from spacy==3.*) (63.2.0)\n",
      "Requirement already satisfied: packaging>=20.0 in c:\\program files\\python310\\lib\\site-packages (from spacy==3.*) (21.3)\n",
      "Requirement already satisfied: langcodes<4.0.0,>=3.2.0 in c:\\users\\vinicius23011\\appdata\\roaming\\python\\python310\\site-packages (from spacy==3.*) (3.5.0)\n",
      "Requirement already satisfied: language-data>=1.2 in c:\\users\\vinicius23011\\appdata\\roaming\\python\\python310\\site-packages (from langcodes<4.0.0,>=3.2.0->spacy==3.*) (1.3.0)\n",
      "Requirement already satisfied: pyparsing!=3.0.5,>=2.0.2 in c:\\program files\\python310\\lib\\site-packages (from packaging>=20.0->spacy==3.*) (3.0.9)\n",
      "Requirement already satisfied: annotated-types>=0.6.0 in c:\\users\\vinicius23011\\appdata\\roaming\\python\\python310\\site-packages (from pydantic!=1.8,!=1.8.1,<3.0.0,>=1.7.4->spacy==3.*) (0.7.0)\n",
      "Requirement already satisfied: pydantic-core==2.27.2 in c:\\users\\vinicius23011\\appdata\\roaming\\python\\python310\\site-packages (from pydantic!=1.8,!=1.8.1,<3.0.0,>=1.7.4->spacy==3.*) (2.27.2)\n",
      "Requirement already satisfied: typing-extensions>=4.12.2 in c:\\users\\vinicius23011\\appdata\\roaming\\python\\python310\\site-packages (from pydantic!=1.8,!=1.8.1,<3.0.0,>=1.7.4->spacy==3.*) (4.12.2)\n",
      "Requirement already satisfied: charset-normalizer<3,>=2 in c:\\program files\\python310\\lib\\site-packages (from requests<3.0.0,>=2.13.0->spacy==3.*) (2.1.1)\n",
      "Requirement already satisfied: idna<4,>=2.5 in c:\\program files\\python310\\lib\\site-packages (from requests<3.0.0,>=2.13.0->spacy==3.*) (3.4)\n",
      "Requirement already satisfied: urllib3<1.27,>=1.21.1 in c:\\program files\\python310\\lib\\site-packages (from requests<3.0.0,>=2.13.0->spacy==3.*) (1.26.13)\n",
      "Requirement already satisfied: certifi>=2017.4.17 in c:\\program files\\python310\\lib\\site-packages (from requests<3.0.0,>=2.13.0->spacy==3.*) (2022.9.24)\n",
      "Requirement already satisfied: blis<1.3.0,>=1.2.0 in c:\\users\\vinicius23011\\appdata\\roaming\\python\\python310\\site-packages (from thinc<8.4.0,>=8.3.4->spacy==3.*) (1.2.0)\n",
      "Requirement already satisfied: confection<1.0.0,>=0.0.1 in c:\\users\\vinicius23011\\appdata\\roaming\\python\\python310\\site-packages (from thinc<8.4.0,>=8.3.4->spacy==3.*) (0.1.5)\n",
      "Requirement already satisfied: colorama in c:\\program files\\python310\\lib\\site-packages (from tqdm<5.0.0,>=4.38.0->spacy==3.*) (0.4.6)\n",
      "Requirement already satisfied: click>=8.0.0 in c:\\users\\vinicius23011\\appdata\\roaming\\python\\python310\\site-packages (from typer<1.0.0,>=0.3.0->spacy==3.*) (8.1.7)\n",
      "Requirement already satisfied: shellingham>=1.3.0 in c:\\users\\vinicius23011\\appdata\\roaming\\python\\python310\\site-packages (from typer<1.0.0,>=0.3.0->spacy==3.*) (1.5.4)\n",
      "Requirement already satisfied: rich>=10.11.0 in c:\\users\\vinicius23011\\appdata\\roaming\\python\\python310\\site-packages (from typer<1.0.0,>=0.3.0->spacy==3.*) (13.7.0)\n",
      "Requirement already satisfied: cloudpathlib<1.0.0,>=0.7.0 in c:\\users\\vinicius23011\\appdata\\roaming\\python\\python310\\site-packages (from weasel<0.5.0,>=0.1.0->spacy==3.*) (0.21.0)\n",
      "Requirement already satisfied: smart-open<8.0.0,>=5.2.1 in c:\\users\\vinicius23011\\appdata\\roaming\\python\\python310\\site-packages (from weasel<0.5.0,>=0.1.0->spacy==3.*) (7.1.0)\n",
      "Requirement already satisfied: MarkupSafe>=2.0 in c:\\users\\vinicius23011\\appdata\\roaming\\python\\python310\\site-packages (from jinja2->spacy==3.*) (2.1.3)\n",
      "Requirement already satisfied: marisa-trie>=1.1.0 in c:\\users\\vinicius23011\\appdata\\roaming\\python\\python310\\site-packages (from language-data>=1.2->langcodes<4.0.0,>=3.2.0->spacy==3.*) (1.2.1)\n",
      "Requirement already satisfied: markdown-it-py>=2.2.0 in c:\\users\\vinicius23011\\appdata\\roaming\\python\\python310\\site-packages (from rich>=10.11.0->typer<1.0.0,>=0.3.0->spacy==3.*) (3.0.0)\n",
      "Requirement already satisfied: pygments<3.0.0,>=2.13.0 in c:\\program files\\python310\\lib\\site-packages (from rich>=10.11.0->typer<1.0.0,>=0.3.0->spacy==3.*) (2.13.0)\n",
      "Requirement already satisfied: wrapt in c:\\users\\vinicius23011\\appdata\\roaming\\python\\python310\\site-packages (from smart-open<8.0.0,>=5.2.1->weasel<0.5.0,>=0.1.0->spacy==3.*) (1.16.0)\n",
      "Requirement already satisfied: mdurl~=0.1 in c:\\users\\vinicius23011\\appdata\\roaming\\python\\python310\\site-packages (from markdown-it-py>=2.2.0->rich>=10.11.0->typer<1.0.0,>=0.3.0->spacy==3.*) (0.1.2)\n"
     ]
    }
   ],
   "source": [
    "pip install -U spacy==3.*"
   ]
  },
  {
   "cell_type": "code",
   "execution_count": 4,
   "metadata": {},
   "outputs": [
    {
     "name": "stdout",
     "output_type": "stream",
     "text": [
      "\u001b[1m\n",
      "============================== Info about spaCy ==============================\u001b[0m\n",
      "\n",
      "spaCy version    3.8.4                         \n",
      "Location         C:\\Users\\vinicius23011\\AppData\\Roaming\\Python\\Python310\\site-packages\\spacy\n",
      "Platform         Windows-10-10.0.22621-SP0     \n",
      "Python version   3.10.8                        \n",
      "Pipelines        en_core_web_sm (3.8.0)        \n",
      "\n"
     ]
    }
   ],
   "source": [
    "!python -m spacy info"
   ]
  },
  {
   "cell_type": "markdown",
   "metadata": {},
   "source": [
    "## Part 1: Learning the basics: Preprocessing, Basic Vetorization, Modelling Overview"
   ]
  },
  {
   "cell_type": "code",
   "execution_count": 2,
   "metadata": {},
   "outputs": [],
   "source": [
    " import spacy"
   ]
  },
  {
   "cell_type": "markdown",
   "metadata": {},
   "source": [
    "Now, how we saw on the guide ``ipynb``, by James Almeida, we need to load a suitable statistical model for our project. On the tutorial, the Professor begins with the **en_core_web_sm** model, the smallest English model from SpaCy, a good start for do NLP tasks. But what really does the **en_core_web_sm** model? Biefly, this model is trained using structuring written text like blogs, news, and comments. Thus, is ideal for this goals, and is **desgined for fast processing on CPU's**. Is a Small Model, like the name suggests (\"sm\"), with 12 MB . Is trained on real-world web text (OntoNotes 5, WordNet). And generally, has a High Accuracy, especially for POS tagging (~97%) and parsing (~90%) it's free and open access (MIT License). At this point, we need to know that this model is a good starting point for our **first tests**, BUT, probably, for our corpus, that has a semiconductor properties target, is most appropriate use a large model, trained for our applications, i. e., research articles."
   ]
  },
  {
   "cell_type": "code",
   "execution_count": 6,
   "metadata": {},
   "outputs": [
    {
     "name": "stdout",
     "output_type": "stream",
     "text": [
      "Defaulting to user installation because normal site-packages is not writeable\n",
      "Collecting en-core-web-sm==3.8.0\n",
      "  Downloading https://github.com/explosion/spacy-models/releases/download/en_core_web_sm-3.8.0/en_core_web_sm-3.8.0-py3-none-any.whl (12.8 MB)\n",
      "     ---------------------------------------- 12.8/12.8 MB 8.6 MB/s eta 0:00:00\n",
      "\u001b[38;5;2m✔ Download and installation successful\u001b[0m\n",
      "You can now load the package via spacy.load('en_core_web_sm')\n"
     ]
    },
    {
     "name": "stderr",
     "output_type": "stream",
     "text": [
      "\n",
      "[notice] A new release of pip is available: 23.3.1 -> 25.0.1\n",
      "[notice] To update, run: python.exe -m pip install --upgrade pip\n"
     ]
    }
   ],
   "source": [
    "!python -m spacy download en_core_web_sm"
   ]
  },
  {
   "cell_type": "code",
   "execution_count": 3,
   "metadata": {},
   "outputs": [],
   "source": [
    "nlp = spacy.load('en_core_web_sm')"
   ]
  },
  {
   "cell_type": "markdown",
   "metadata": {},
   "source": [
    "Other vailable spaCy models at these links:<br>\n",
    "https://spacy.io/models<br>\n",
    "https://spacy.io/usage/models"
   ]
  },
  {
   "cell_type": "markdown",
   "metadata": {},
   "source": [
    "Now, the ``nlp`` variable references a **Language** class. (contains language specific rules for various tasks, for example, tokenization. And, a processing pipeline)"
   ]
  },
  {
   "cell_type": "code",
   "execution_count": 4,
   "metadata": {},
   "outputs": [
    {
     "data": {
      "text/plain": [
       "spacy.lang.en.English"
      ]
     },
     "execution_count": 4,
     "metadata": {},
     "output_type": "execute_result"
    }
   ],
   "source": [
    "type(nlp)"
   ]
  },
  {
   "cell_type": "markdown",
   "metadata": {
    "id": "unmnGRu8D-wa"
   },
   "source": [
    "### Tokenization\n",
    "https://www.nlpdemystified.org/course/tokenization\n"
   ]
  },
  {
   "cell_type": "markdown",
   "metadata": {},
   "source": [
    "We pass whatever text we want to process to _nlp_, which returns a **Doc** object. The **Doc** is a container that stores processed text along with its linguistic annotations. It is created automatically when text is passed to the `nlp` function and allows easy access to tokens, sentences, and named entities. \n",
    "\n",
    "The **Doc** object supports various features. It handles **tokenization**, breaking text into individual words (tokens), and provides **annotations**, where each token contains grammatical and syntactic details. It also enables **sentence segmentation**, identifying separate sentences, and **named entity recognition (NER)**, detecting names, locations, dates, and other entities. Additionally, it supports **lemmatization**, converting words to their base forms (e.g., \"running\" → \"run\"), and **dependency parsing**, understanding relationships between words. \n",
    "\n",
    "To use it, we can create a **Doc** by passing text to an `nlp` pipeline:  \n",
    "`import spacy`  \n",
    "`nlp = spacy.load(\"en_core_web_sm\")`  \n",
    "`doc = nlp(\"Hello world!\")`  \n",
    "From this, we can access tokens (`doc[0]` → \"Hello\"), named entities (`doc.ents`), and sentences (`doc.sents`).  \n",
    "\n",
    "It is also possible to create a **custom Doc** manually:  \n",
    "`from spacy.tokens import Doc`  \n",
    "`words = [\"Hello\", \"world\", \"!\"]`  \n",
    "`spaces = [True, False, False]`  \n",
    "`doc = Doc(nlp.vocab, words=words, spaces=spaces)`  \n",
    "\n",
    "The **Doc** object allows iteration (`for token in doc`), slicing (`doc[1:3]` to extract a part of a document), and exporting data in different formats such as arrays, JSON, or binary. It also supports **custom extensions**, letting users define new attributes (`doc._.custom_attr`).  \n",
    "\n",
    "In summary, the **Doc** object is how spaCy structures and organizes text, making it easier to process and extract meaningful information from it.\n"
   ]
  },
  {
   "cell_type": "markdown",
   "metadata": {},
   "source": [
    "A **Doc** object contains **Token** and **Span** objects, which are essential components of text processing in spaCy. A **Token** represents a single unit in a text, such as a word, punctuation mark, or whitespace. Each token carries various attributes like its **text content** (`token.text`), **position in the sentence**, and **grammatical properties** such as **part of speech (POS)** and **dependency labels**. Tokens can be accessed within a `Doc` using indexing (`doc[0]` for the first token) or iterated over in a loop (`for token in doc`). Additionally, tokens support **custom attributes**, which can be added using `Token.set_extension()`, allowing users to define additional metadata. \n",
    "\n",
    "A **Span** represents a slice of text within a `Doc`, consisting of multiple tokens. Spans are useful for grouping words together, such as **named entities** (e.g., \"New York\" as a single unit). A span can be created by slicing a `Doc` (`doc[1:4]` selects three tokens). Like tokens, spans support **custom attributes** and can be used to extract **noun phrases, entity mentions, or syntactic chunks**. \n",
    "\n",
    "To use Token and Span in practice, we first create a `Doc` object by loading a spaCy pipeline. For example, `doc = nlp(\"Give it back! He pleaded.\")` allows us to access tokens and spans within the text. The first token can be retrieved with `doc[0]`, which will return \"Give\". A span can be created by selecting a range of tokens, such as `doc[1:4]`, which will return \"it back!\". Additionally, we can define custom attributes for tokens and spans. For instance, setting an attribute to indicate if a token is a fruit can be done with `Token.set_extension(\"is_fruit\", default=False)`, and then assigning `doc[3]._.is_fruit = True`. Checking this attribute will return `True`. Similarly, we can set a custom span attribute to detect if a span contains a city name using `Span.set_extension(\"has_city\", getter=lambda span: \"New York\" in span.text)`. If we apply this to a span, `span._.has_city` will return `False` unless \"New York\" is within the selected span. \n",
    "\n",
    "Token objects can identify **semantic similarity** between words, retrieve **morphological information** like tense and number, access **syntactic relationships** (e.g., parent-child relations in a dependency tree), and use **word embeddings** for vector-based comparisons. Span objects enable the extraction of **named entities**, identification of **noun phrases** and **syntactic structures**, and sentence and phrase-level **semantic analysis**. Both **Token** and **Span** objects play a crucial role in **natural language understanding (NLU)**, making spaCy a powerful tool for **text analysis, entity recognition, and language modeling**.\n"
   ]
  },
  {
   "cell_type": "markdown",
   "metadata": {},
   "source": [
    "## Trying to tokenize the articles titles from our corpus using encore_web_sm"
   ]
  },
  {
   "cell_type": "code",
   "execution_count": 5,
   "metadata": {},
   "outputs": [
    {
     "data": {
      "text/plain": [
       "['Sheet1']"
      ]
     },
     "execution_count": 5,
     "metadata": {},
     "output_type": "execute_result"
    }
   ],
   "source": [
    "import pandas as pd\n",
    "\n",
    "# Load the Excel file\n",
    "file_path = \"../data (corpus)/data_mesh.xlsx\"\n",
    "xls = pd.ExcelFile(file_path)\n",
    "\n",
    "xls.sheet_names\n"
   ]
  },
  {
   "cell_type": "code",
   "execution_count": 6,
   "metadata": {},
   "outputs": [
    {
     "data": {
      "text/html": [
       "<div>\n",
       "<style scoped>\n",
       "    .dataframe tbody tr th:only-of-type {\n",
       "        vertical-align: middle;\n",
       "    }\n",
       "\n",
       "    .dataframe tbody tr th {\n",
       "        vertical-align: top;\n",
       "    }\n",
       "\n",
       "    .dataframe thead th {\n",
       "        text-align: right;\n",
       "    }\n",
       "</style>\n",
       "<table border=\"1\" class=\"dataframe\">\n",
       "  <thead>\n",
       "    <tr style=\"text-align: right;\">\n",
       "      <th></th>\n",
       "      <th>Publication Type</th>\n",
       "      <th>Authors</th>\n",
       "      <th>Book Authors</th>\n",
       "      <th>Book Editors</th>\n",
       "      <th>Book Group Authors</th>\n",
       "      <th>Author Full Names</th>\n",
       "      <th>Book Author Full Names</th>\n",
       "      <th>Group Authors</th>\n",
       "      <th>Article Title</th>\n",
       "      <th>Source Title</th>\n",
       "      <th>...</th>\n",
       "      <th>Web of Science Index</th>\n",
       "      <th>Research Areas</th>\n",
       "      <th>IDS Number</th>\n",
       "      <th>Pubmed Id</th>\n",
       "      <th>Open Access Designations</th>\n",
       "      <th>Highly Cited Status</th>\n",
       "      <th>Hot Paper Status</th>\n",
       "      <th>Date of Export</th>\n",
       "      <th>UT (Unique WOS ID)</th>\n",
       "      <th>Web of Science Record</th>\n",
       "    </tr>\n",
       "  </thead>\n",
       "  <tbody>\n",
       "    <tr>\n",
       "      <th>0</th>\n",
       "      <td>J</td>\n",
       "      <td>Brunthaler, G; Lindner, B; Pillwein, G; Griess...</td>\n",
       "      <td>NaN</td>\n",
       "      <td>NaN</td>\n",
       "      <td>NaN</td>\n",
       "      <td>Brunthaler, G; Lindner, B; Pillwein, G; Griess...</td>\n",
       "      <td>NaN</td>\n",
       "      <td>NaN</td>\n",
       "      <td>Two-dimensional metallic state in silicon-on-i...</td>\n",
       "      <td>PHYSICA E-LOW-DIMENSIONAL SYSTEMS &amp; NANOSTRUCT...</td>\n",
       "      <td>...</td>\n",
       "      <td>NaN</td>\n",
       "      <td>Science &amp; Technology - Other Topics; Physics</td>\n",
       "      <td>NaN</td>\n",
       "      <td>NaN</td>\n",
       "      <td>NaN</td>\n",
       "      <td>NaN</td>\n",
       "      <td>NaN</td>\n",
       "      <td>2025-03-11</td>\n",
       "      <td>WOS:000221140800060</td>\n",
       "      <td>0</td>\n",
       "    </tr>\n",
       "    <tr>\n",
       "      <th>1</th>\n",
       "      <td>C</td>\n",
       "      <td>Pyragas, V; Lisauskas, V; Sliuziene, K; Vengal...</td>\n",
       "      <td>NaN</td>\n",
       "      <td>Grigonis, A</td>\n",
       "      <td>NaN</td>\n",
       "      <td>Pyragas, V.; Lisauskas, V.; Sliuziene, K.; Ven...</td>\n",
       "      <td>NaN</td>\n",
       "      <td>NaN</td>\n",
       "      <td>ELECTRICAL PROPERTIES OF NONSTOICHIOMETRIC In2...</td>\n",
       "      <td>3RD INTERNATIONAL CONFERENCE RADIATION INTERAC...</td>\n",
       "      <td>...</td>\n",
       "      <td>NaN</td>\n",
       "      <td>Materials Science; Nuclear Science &amp; Technology</td>\n",
       "      <td>NaN</td>\n",
       "      <td>NaN</td>\n",
       "      <td>NaN</td>\n",
       "      <td>NaN</td>\n",
       "      <td>NaN</td>\n",
       "      <td>2025-03-11</td>\n",
       "      <td>WOS:000309143200075</td>\n",
       "      <td>0</td>\n",
       "    </tr>\n",
       "    <tr>\n",
       "      <th>2</th>\n",
       "      <td>J</td>\n",
       "      <td>Qi, F; Chen, YF; Zheng, BJ; He, JR; Li, Q; Wan...</td>\n",
       "      <td>NaN</td>\n",
       "      <td>NaN</td>\n",
       "      <td>NaN</td>\n",
       "      <td>Qi, Fei; Chen, Yuanfu; Zheng, Binjie; He, Jiar...</td>\n",
       "      <td>NaN</td>\n",
       "      <td>NaN</td>\n",
       "      <td>Hierarchical architecture of ReS2/rGO composit...</td>\n",
       "      <td>APPLIED SURFACE SCIENCE</td>\n",
       "      <td>...</td>\n",
       "      <td>NaN</td>\n",
       "      <td>Chemistry; Materials Science; Physics</td>\n",
       "      <td>NaN</td>\n",
       "      <td>NaN</td>\n",
       "      <td>NaN</td>\n",
       "      <td>NaN</td>\n",
       "      <td>NaN</td>\n",
       "      <td>2025-03-11</td>\n",
       "      <td>WOS:000401680200016</td>\n",
       "      <td>0</td>\n",
       "    </tr>\n",
       "    <tr>\n",
       "      <th>3</th>\n",
       "      <td>J</td>\n",
       "      <td>Wang, YX; Zhao, XY; Lü, SQ; Meng, XW; Zhang, Y...</td>\n",
       "      <td>NaN</td>\n",
       "      <td>NaN</td>\n",
       "      <td>NaN</td>\n",
       "      <td>Wang, Yaxin; Zhao, Xiaoyu; Lu, Shiquan; Meng, ...</td>\n",
       "      <td>NaN</td>\n",
       "      <td>NaN</td>\n",
       "      <td>Synthesis and characterization of SmSrCo2-xMnx...</td>\n",
       "      <td>CERAMICS INTERNATIONAL</td>\n",
       "      <td>...</td>\n",
       "      <td>NaN</td>\n",
       "      <td>Materials Science</td>\n",
       "      <td>NaN</td>\n",
       "      <td>NaN</td>\n",
       "      <td>NaN</td>\n",
       "      <td>NaN</td>\n",
       "      <td>NaN</td>\n",
       "      <td>2025-03-11</td>\n",
       "      <td>WOS:000337015300147</td>\n",
       "      <td>0</td>\n",
       "    </tr>\n",
       "    <tr>\n",
       "      <th>4</th>\n",
       "      <td>J</td>\n",
       "      <td>Manousou, DK; Gardelis, S; Calamiotou, M; Sysk...</td>\n",
       "      <td>NaN</td>\n",
       "      <td>NaN</td>\n",
       "      <td>NaN</td>\n",
       "      <td>Manousou, Dimitra K.; Gardelis, Spiros; Calami...</td>\n",
       "      <td>NaN</td>\n",
       "      <td>NaN</td>\n",
       "      <td>VO2 thin films fabricated by reduction of ther...</td>\n",
       "      <td>MATERIALS LETTERS</td>\n",
       "      <td>...</td>\n",
       "      <td>NaN</td>\n",
       "      <td>Materials Science; Physics</td>\n",
       "      <td>NaN</td>\n",
       "      <td>NaN</td>\n",
       "      <td>NaN</td>\n",
       "      <td>NaN</td>\n",
       "      <td>NaN</td>\n",
       "      <td>2025-03-11</td>\n",
       "      <td>WOS:000670371300017</td>\n",
       "      <td>0</td>\n",
       "    </tr>\n",
       "  </tbody>\n",
       "</table>\n",
       "<p>5 rows × 72 columns</p>\n",
       "</div>"
      ],
      "text/plain": [
       "  Publication Type                                            Authors  \\\n",
       "0                J  Brunthaler, G; Lindner, B; Pillwein, G; Griess...   \n",
       "1                C  Pyragas, V; Lisauskas, V; Sliuziene, K; Vengal...   \n",
       "2                J  Qi, F; Chen, YF; Zheng, BJ; He, JR; Li, Q; Wan...   \n",
       "3                J  Wang, YX; Zhao, XY; Lü, SQ; Meng, XW; Zhang, Y...   \n",
       "4                J  Manousou, DK; Gardelis, S; Calamiotou, M; Sysk...   \n",
       "\n",
       "  Book Authors Book Editors Book Group Authors  \\\n",
       "0          NaN          NaN                NaN   \n",
       "1          NaN  Grigonis, A                NaN   \n",
       "2          NaN          NaN                NaN   \n",
       "3          NaN          NaN                NaN   \n",
       "4          NaN          NaN                NaN   \n",
       "\n",
       "                                   Author Full Names Book Author Full Names  \\\n",
       "0  Brunthaler, G; Lindner, B; Pillwein, G; Griess...                    NaN   \n",
       "1  Pyragas, V.; Lisauskas, V.; Sliuziene, K.; Ven...                    NaN   \n",
       "2  Qi, Fei; Chen, Yuanfu; Zheng, Binjie; He, Jiar...                    NaN   \n",
       "3  Wang, Yaxin; Zhao, Xiaoyu; Lu, Shiquan; Meng, ...                    NaN   \n",
       "4  Manousou, Dimitra K.; Gardelis, Spiros; Calami...                    NaN   \n",
       "\n",
       "   Group Authors                                      Article Title  \\\n",
       "0            NaN  Two-dimensional metallic state in silicon-on-i...   \n",
       "1            NaN  ELECTRICAL PROPERTIES OF NONSTOICHIOMETRIC In2...   \n",
       "2            NaN  Hierarchical architecture of ReS2/rGO composit...   \n",
       "3            NaN  Synthesis and characterization of SmSrCo2-xMnx...   \n",
       "4            NaN  VO2 thin films fabricated by reduction of ther...   \n",
       "\n",
       "                                        Source Title  ...  \\\n",
       "0  PHYSICA E-LOW-DIMENSIONAL SYSTEMS & NANOSTRUCT...  ...   \n",
       "1  3RD INTERNATIONAL CONFERENCE RADIATION INTERAC...  ...   \n",
       "2                            APPLIED SURFACE SCIENCE  ...   \n",
       "3                             CERAMICS INTERNATIONAL  ...   \n",
       "4                                  MATERIALS LETTERS  ...   \n",
       "\n",
       "  Web of Science Index                                   Research Areas  \\\n",
       "0                  NaN     Science & Technology - Other Topics; Physics   \n",
       "1                  NaN  Materials Science; Nuclear Science & Technology   \n",
       "2                  NaN            Chemistry; Materials Science; Physics   \n",
       "3                  NaN                                Materials Science   \n",
       "4                  NaN                       Materials Science; Physics   \n",
       "\n",
       "   IDS Number  Pubmed Id Open Access Designations Highly Cited Status  \\\n",
       "0         NaN        NaN                      NaN                 NaN   \n",
       "1         NaN        NaN                      NaN                 NaN   \n",
       "2         NaN        NaN                      NaN                 NaN   \n",
       "3         NaN        NaN                      NaN                 NaN   \n",
       "4         NaN        NaN                      NaN                 NaN   \n",
       "\n",
       "  Hot Paper Status Date of Export   UT (Unique WOS ID)  Web of Science Record  \n",
       "0              NaN     2025-03-11  WOS:000221140800060                      0  \n",
       "1              NaN     2025-03-11  WOS:000309143200075                      0  \n",
       "2              NaN     2025-03-11  WOS:000401680200016                      0  \n",
       "3              NaN     2025-03-11  WOS:000337015300147                      0  \n",
       "4              NaN     2025-03-11  WOS:000670371300017                      0  \n",
       "\n",
       "[5 rows x 72 columns]"
      ]
     },
     "execution_count": 6,
     "metadata": {},
     "output_type": "execute_result"
    }
   ],
   "source": [
    "# Load the first sheet\n",
    "df = xls.parse('Sheet1')\n",
    "\n",
    "# View the first arrows\n",
    "df.head()\n"
   ]
  },
  {
   "cell_type": "code",
   "execution_count": 7,
   "metadata": {},
   "outputs": [
    {
     "name": "stdout",
     "output_type": "stream",
     "text": [
      "                                       Article Title  \\\n",
      "0  Two-dimensional metallic state in silicon-on-i...   \n",
      "1  ELECTRICAL PROPERTIES OF NONSTOICHIOMETRIC In2...   \n",
      "2  Hierarchical architecture of ReS2/rGO composit...   \n",
      "3  Synthesis and characterization of SmSrCo2-xMnx...   \n",
      "4  VO2 thin films fabricated by reduction of ther...   \n",
      "\n",
      "                                        Title_Tokens  \n",
      "0  [Two, -, dimensional, metallic, state, in, sil...  \n",
      "1  [ELECTRICAL, PROPERTIES, OF, NONSTOICHIOMETRIC...  \n",
      "2  [Hierarchical, architecture, of, ReS2, /, rGO,...  \n",
      "3  [Synthesis, and, characterization, of, SmSrCo2...  \n",
      "4  [VO2, thin, films, fabricated, by, reduction, ...  \n"
     ]
    },
    {
     "data": {
      "text/html": [
       "<div>\n",
       "<style scoped>\n",
       "    .dataframe tbody tr th:only-of-type {\n",
       "        vertical-align: middle;\n",
       "    }\n",
       "\n",
       "    .dataframe tbody tr th {\n",
       "        vertical-align: top;\n",
       "    }\n",
       "\n",
       "    .dataframe thead th {\n",
       "        text-align: right;\n",
       "    }\n",
       "</style>\n",
       "<table border=\"1\" class=\"dataframe\">\n",
       "  <thead>\n",
       "    <tr style=\"text-align: right;\">\n",
       "      <th></th>\n",
       "      <th>Publication Type</th>\n",
       "      <th>Authors</th>\n",
       "      <th>Book Authors</th>\n",
       "      <th>Book Editors</th>\n",
       "      <th>Book Group Authors</th>\n",
       "      <th>Author Full Names</th>\n",
       "      <th>Book Author Full Names</th>\n",
       "      <th>Group Authors</th>\n",
       "      <th>Article Title</th>\n",
       "      <th>Source Title</th>\n",
       "      <th>...</th>\n",
       "      <th>Research Areas</th>\n",
       "      <th>IDS Number</th>\n",
       "      <th>Pubmed Id</th>\n",
       "      <th>Open Access Designations</th>\n",
       "      <th>Highly Cited Status</th>\n",
       "      <th>Hot Paper Status</th>\n",
       "      <th>Date of Export</th>\n",
       "      <th>UT (Unique WOS ID)</th>\n",
       "      <th>Web of Science Record</th>\n",
       "      <th>Title_Tokens</th>\n",
       "    </tr>\n",
       "  </thead>\n",
       "  <tbody>\n",
       "    <tr>\n",
       "      <th>0</th>\n",
       "      <td>J</td>\n",
       "      <td>Brunthaler, G; Lindner, B; Pillwein, G; Griess...</td>\n",
       "      <td>NaN</td>\n",
       "      <td>NaN</td>\n",
       "      <td>NaN</td>\n",
       "      <td>Brunthaler, G; Lindner, B; Pillwein, G; Griess...</td>\n",
       "      <td>NaN</td>\n",
       "      <td>NaN</td>\n",
       "      <td>Two-dimensional metallic state in silicon-on-i...</td>\n",
       "      <td>PHYSICA E-LOW-DIMENSIONAL SYSTEMS &amp; NANOSTRUCT...</td>\n",
       "      <td>...</td>\n",
       "      <td>Science &amp; Technology - Other Topics; Physics</td>\n",
       "      <td>NaN</td>\n",
       "      <td>NaN</td>\n",
       "      <td>NaN</td>\n",
       "      <td>NaN</td>\n",
       "      <td>NaN</td>\n",
       "      <td>2025-03-11</td>\n",
       "      <td>WOS:000221140800060</td>\n",
       "      <td>0</td>\n",
       "      <td>[Two, -, dimensional, metallic, state, in, sil...</td>\n",
       "    </tr>\n",
       "    <tr>\n",
       "      <th>1</th>\n",
       "      <td>C</td>\n",
       "      <td>Pyragas, V; Lisauskas, V; Sliuziene, K; Vengal...</td>\n",
       "      <td>NaN</td>\n",
       "      <td>Grigonis, A</td>\n",
       "      <td>NaN</td>\n",
       "      <td>Pyragas, V.; Lisauskas, V.; Sliuziene, K.; Ven...</td>\n",
       "      <td>NaN</td>\n",
       "      <td>NaN</td>\n",
       "      <td>ELECTRICAL PROPERTIES OF NONSTOICHIOMETRIC In2...</td>\n",
       "      <td>3RD INTERNATIONAL CONFERENCE RADIATION INTERAC...</td>\n",
       "      <td>...</td>\n",
       "      <td>Materials Science; Nuclear Science &amp; Technology</td>\n",
       "      <td>NaN</td>\n",
       "      <td>NaN</td>\n",
       "      <td>NaN</td>\n",
       "      <td>NaN</td>\n",
       "      <td>NaN</td>\n",
       "      <td>2025-03-11</td>\n",
       "      <td>WOS:000309143200075</td>\n",
       "      <td>0</td>\n",
       "      <td>[ELECTRICAL, PROPERTIES, OF, NONSTOICHIOMETRIC...</td>\n",
       "    </tr>\n",
       "    <tr>\n",
       "      <th>2</th>\n",
       "      <td>J</td>\n",
       "      <td>Qi, F; Chen, YF; Zheng, BJ; He, JR; Li, Q; Wan...</td>\n",
       "      <td>NaN</td>\n",
       "      <td>NaN</td>\n",
       "      <td>NaN</td>\n",
       "      <td>Qi, Fei; Chen, Yuanfu; Zheng, Binjie; He, Jiar...</td>\n",
       "      <td>NaN</td>\n",
       "      <td>NaN</td>\n",
       "      <td>Hierarchical architecture of ReS2/rGO composit...</td>\n",
       "      <td>APPLIED SURFACE SCIENCE</td>\n",
       "      <td>...</td>\n",
       "      <td>Chemistry; Materials Science; Physics</td>\n",
       "      <td>NaN</td>\n",
       "      <td>NaN</td>\n",
       "      <td>NaN</td>\n",
       "      <td>NaN</td>\n",
       "      <td>NaN</td>\n",
       "      <td>2025-03-11</td>\n",
       "      <td>WOS:000401680200016</td>\n",
       "      <td>0</td>\n",
       "      <td>[Hierarchical, architecture, of, ReS2, /, rGO,...</td>\n",
       "    </tr>\n",
       "    <tr>\n",
       "      <th>3</th>\n",
       "      <td>J</td>\n",
       "      <td>Wang, YX; Zhao, XY; Lü, SQ; Meng, XW; Zhang, Y...</td>\n",
       "      <td>NaN</td>\n",
       "      <td>NaN</td>\n",
       "      <td>NaN</td>\n",
       "      <td>Wang, Yaxin; Zhao, Xiaoyu; Lu, Shiquan; Meng, ...</td>\n",
       "      <td>NaN</td>\n",
       "      <td>NaN</td>\n",
       "      <td>Synthesis and characterization of SmSrCo2-xMnx...</td>\n",
       "      <td>CERAMICS INTERNATIONAL</td>\n",
       "      <td>...</td>\n",
       "      <td>Materials Science</td>\n",
       "      <td>NaN</td>\n",
       "      <td>NaN</td>\n",
       "      <td>NaN</td>\n",
       "      <td>NaN</td>\n",
       "      <td>NaN</td>\n",
       "      <td>2025-03-11</td>\n",
       "      <td>WOS:000337015300147</td>\n",
       "      <td>0</td>\n",
       "      <td>[Synthesis, and, characterization, of, SmSrCo2...</td>\n",
       "    </tr>\n",
       "    <tr>\n",
       "      <th>4</th>\n",
       "      <td>J</td>\n",
       "      <td>Manousou, DK; Gardelis, S; Calamiotou, M; Sysk...</td>\n",
       "      <td>NaN</td>\n",
       "      <td>NaN</td>\n",
       "      <td>NaN</td>\n",
       "      <td>Manousou, Dimitra K.; Gardelis, Spiros; Calami...</td>\n",
       "      <td>NaN</td>\n",
       "      <td>NaN</td>\n",
       "      <td>VO2 thin films fabricated by reduction of ther...</td>\n",
       "      <td>MATERIALS LETTERS</td>\n",
       "      <td>...</td>\n",
       "      <td>Materials Science; Physics</td>\n",
       "      <td>NaN</td>\n",
       "      <td>NaN</td>\n",
       "      <td>NaN</td>\n",
       "      <td>NaN</td>\n",
       "      <td>NaN</td>\n",
       "      <td>2025-03-11</td>\n",
       "      <td>WOS:000670371300017</td>\n",
       "      <td>0</td>\n",
       "      <td>[VO2, thin, films, fabricated, by, reduction, ...</td>\n",
       "    </tr>\n",
       "  </tbody>\n",
       "</table>\n",
       "<p>5 rows × 73 columns</p>\n",
       "</div>"
      ],
      "text/plain": [
       "  Publication Type                                            Authors  \\\n",
       "0                J  Brunthaler, G; Lindner, B; Pillwein, G; Griess...   \n",
       "1                C  Pyragas, V; Lisauskas, V; Sliuziene, K; Vengal...   \n",
       "2                J  Qi, F; Chen, YF; Zheng, BJ; He, JR; Li, Q; Wan...   \n",
       "3                J  Wang, YX; Zhao, XY; Lü, SQ; Meng, XW; Zhang, Y...   \n",
       "4                J  Manousou, DK; Gardelis, S; Calamiotou, M; Sysk...   \n",
       "\n",
       "  Book Authors Book Editors Book Group Authors  \\\n",
       "0          NaN          NaN                NaN   \n",
       "1          NaN  Grigonis, A                NaN   \n",
       "2          NaN          NaN                NaN   \n",
       "3          NaN          NaN                NaN   \n",
       "4          NaN          NaN                NaN   \n",
       "\n",
       "                                   Author Full Names Book Author Full Names  \\\n",
       "0  Brunthaler, G; Lindner, B; Pillwein, G; Griess...                    NaN   \n",
       "1  Pyragas, V.; Lisauskas, V.; Sliuziene, K.; Ven...                    NaN   \n",
       "2  Qi, Fei; Chen, Yuanfu; Zheng, Binjie; He, Jiar...                    NaN   \n",
       "3  Wang, Yaxin; Zhao, Xiaoyu; Lu, Shiquan; Meng, ...                    NaN   \n",
       "4  Manousou, Dimitra K.; Gardelis, Spiros; Calami...                    NaN   \n",
       "\n",
       "   Group Authors                                      Article Title  \\\n",
       "0            NaN  Two-dimensional metallic state in silicon-on-i...   \n",
       "1            NaN  ELECTRICAL PROPERTIES OF NONSTOICHIOMETRIC In2...   \n",
       "2            NaN  Hierarchical architecture of ReS2/rGO composit...   \n",
       "3            NaN  Synthesis and characterization of SmSrCo2-xMnx...   \n",
       "4            NaN  VO2 thin films fabricated by reduction of ther...   \n",
       "\n",
       "                                        Source Title  ...  \\\n",
       "0  PHYSICA E-LOW-DIMENSIONAL SYSTEMS & NANOSTRUCT...  ...   \n",
       "1  3RD INTERNATIONAL CONFERENCE RADIATION INTERAC...  ...   \n",
       "2                            APPLIED SURFACE SCIENCE  ...   \n",
       "3                             CERAMICS INTERNATIONAL  ...   \n",
       "4                                  MATERIALS LETTERS  ...   \n",
       "\n",
       "                                    Research Areas  IDS Number  Pubmed Id  \\\n",
       "0     Science & Technology - Other Topics; Physics         NaN        NaN   \n",
       "1  Materials Science; Nuclear Science & Technology         NaN        NaN   \n",
       "2            Chemistry; Materials Science; Physics         NaN        NaN   \n",
       "3                                Materials Science         NaN        NaN   \n",
       "4                       Materials Science; Physics         NaN        NaN   \n",
       "\n",
       "   Open Access Designations Highly Cited Status Hot Paper Status  \\\n",
       "0                       NaN                 NaN              NaN   \n",
       "1                       NaN                 NaN              NaN   \n",
       "2                       NaN                 NaN              NaN   \n",
       "3                       NaN                 NaN              NaN   \n",
       "4                       NaN                 NaN              NaN   \n",
       "\n",
       "  Date of Export   UT (Unique WOS ID) Web of Science Record  \\\n",
       "0     2025-03-11  WOS:000221140800060                     0   \n",
       "1     2025-03-11  WOS:000309143200075                     0   \n",
       "2     2025-03-11  WOS:000401680200016                     0   \n",
       "3     2025-03-11  WOS:000337015300147                     0   \n",
       "4     2025-03-11  WOS:000670371300017                     0   \n",
       "\n",
       "                                        Title_Tokens  \n",
       "0  [Two, -, dimensional, metallic, state, in, sil...  \n",
       "1  [ELECTRICAL, PROPERTIES, OF, NONSTOICHIOMETRIC...  \n",
       "2  [Hierarchical, architecture, of, ReS2, /, rGO,...  \n",
       "3  [Synthesis, and, characterization, of, SmSrCo2...  \n",
       "4  [VO2, thin, films, fabricated, by, reduction, ...  \n",
       "\n",
       "[5 rows x 73 columns]"
      ]
     },
     "execution_count": 7,
     "metadata": {},
     "output_type": "execute_result"
    }
   ],
   "source": [
    "import spacy\n",
    "\n",
    "# Loading the small NLP  model from spaCy\n",
    "nlp = spacy.load(\"en_core_web_sm\")\n",
    "\n",
    "# Select the articles title column\n",
    "text_column = \"Article Title\"\n",
    "\n",
    "# Verify if the column exists on DataFrame\n",
    "if text_column in df.columns:\n",
    "    # Tokenize the Article Titles\n",
    "    df[\"Title_Tokens\"] = df[text_column].dropna().apply(lambda text: list(nlp(text)))\n",
    "    \n",
    "    # See the firsts results\n",
    "    print(df[[text_column, \"Title_Tokens\"]].head())\n",
    "else:\n",
    "    df = None  # If doesn't exist the column, none processing is realized.\n",
    "\n",
    "df.head() if df is not None else \"Text column not found.\"\n"
   ]
  },
  {
   "cell_type": "markdown",
   "metadata": {},
   "source": [
    "## Case-folding"
   ]
  },
  {
   "cell_type": "code",
   "execution_count": 8,
   "metadata": {},
   "outputs": [],
   "source": [
    "df[\"Title_Tokens_Lower\"] = df[\"Title_Tokens\"].apply(lambda tokens: [t.lower_ for t in tokens])"
   ]
  },
  {
   "cell_type": "code",
   "execution_count": 9,
   "metadata": {},
   "outputs": [
    {
     "data": {
      "text/plain": [
       "0       [two, -, dimensional, metallic, state, in, sil...\n",
       "1       [electrical, properties, of, nonstoichiometric...\n",
       "2       [hierarchical, architecture, of, res2, /, rgo,...\n",
       "3       [synthesis, and, characterization, of, smsrco2...\n",
       "4       [vo2, thin, films, fabricated, by, reduction, ...\n",
       "                              ...                        \n",
       "4995    [zintl, phases, :, from, curiosities, to, impa...\n",
       "4996    [ultrathin, metallic, -, phase, molybdenum, di...\n",
       "4997    [progress, in, electric, field, control, of, m...\n",
       "4998    [thermal, transport, in, zno, nanocrystal, net...\n",
       "4999    [scattering, mechanisms, in, shallow, undoped,...\n",
       "Name: Title_Tokens_Lower, Length: 5000, dtype: object"
      ]
     },
     "execution_count": 9,
     "metadata": {},
     "output_type": "execute_result"
    }
   ],
   "source": [
    "df['Title_Tokens_Lower']"
   ]
  },
  {
   "cell_type": "markdown",
   "metadata": {
    "id": "G7pTz8XJbmaT"
   },
   "source": [
    "### Stop Word Removal"
   ]
  },
  {
   "cell_type": "code",
   "execution_count": 10,
   "metadata": {},
   "outputs": [
    {
     "name": "stdout",
     "output_type": "stream",
     "text": [
      "{'of', 'ten', 'thereupon', 'myself', 'by', 'whole', 'them', 'hereby', 'two', 'in', 'may', 'whither', 'doing', '’ve', 'twenty', 'therefore', 'him', 'might', 'alone', 'three', 'too', 'due', 'elsewhere', 'herself', 'beyond', 'something', 'except', 'now', 'how', 'with', 'within', 'various', 'least', \"n't\", 'which', 'and', 'from', 'behind', 'former', 'whereupon', 'been', 'yours', 'another', 'but', 'or', 'almost', 'because', 'we', 'amount', 'quite', 'its', 'besides', 'latter', '’m', 'hereupon', 'her', 'thereby', 'used', 'nobody', 'whose', 'cannot', 'at', 'anything', 'itself', 'next', 'otherwise', 'has', 'will', 'really', '‘d', 'do', 'toward', 'around', 'moreover', 'yourself', 'whom', 'eleven', 'always', 'us', 'i', 'after', 'wherever', 'over', 'did', 'both', 'yourselves', 'without', 'across', 'nor', 'already', 'each', 'anyway', 'through', 'here', 'last', 'so', 'less', 'made', 'ever', 'even', 'fifty', 'up', 'nothing', 'under', 'while', 'a', 'none', 'someone', 'what', 'please', 'noone', 'to', 'much', 'most', 'out', 'twelve', 'whatever', 'first', 'your', 'thus', 'further', 'who', 'be', 'should', 'these', 'than', 'was', 'becomes', 'enough', 'whereafter', 'anyhow', 'fifteen', 'afterwards', 'never', 'either', 'sometimes', 'third', '’ll', 'thru', 'front', 'became', 'the', \"'s\", 'becoming', 'among', 'several', 'full', 'she', 'whether', '‘ve', 'can', \"'re\", 'mine', 'using', 'have', 'four', 'my', '‘ll', 'perhaps', 'move', 'anyone', 'his', 'few', 'indeed', 'together', 'though', 'once', 'are', 'towards', 'although', 'everything', 'into', 'seem', 'beforehand', 'seemed', 'not', '‘re', 'else', 'rather', 'themselves', '‘m', 'being', 'yet', 'other', 'they', 'empty', 'on', 'must', 'only', 'back', 'this', '’s', 'throughout', 'any', 'eight', 'whoever', 'per', 'regarding', 'give', 'six', 'whenever', 'everywhere', 'same', 'along', 'done', 'until', 'as', 'again', 'neither', 'whereby', 'wherein', 'somehow', 'those', 'no', 'upon', 'such', 'an', 'hundred', 'there', 'show', 'still', 'n’t', 'formerly', 'our', 'just', \"'d\", 'hers', 'is', \"'ve\", 'seems', 'name', 'somewhere', 'whence', 'forty', 'some', 'put', 'however', 'namely', 'when', 'very', 'would', 'thereafter', 'nevertheless', 'that', 'it', '’d', 'since', 'nine', 'often', 'where', 'hence', 'himself', 'herein', 'sometime', 'ourselves', 'for', 'about', 'every', 'if', 'make', 'could', 'top', '’re', 'become', 'well', 'n‘t', 'ours', 'thence', 'side', 'whereas', 'all', 'during', 'onto', 'beside', 'then', 'take', 'five', 'many', 'meanwhile', 'had', 'he', 'see', 'hereafter', 'others', 'their', 'am', 'you', 'against', 'call', 'also', 'ca', 'therein', 'me', 'keep', 'nowhere', 'below', 'bottom', '‘s', 'more', 'serious', 'everyone', 'above', 'via', 'sixty', \"'ll\", 're', 'does', 'go', 'before', 'get', 'seeming', 'anywhere', 'part', 'between', \"'m\", 'latterly', 'own', 'say', 'mostly', 'one', 'were', 'off', 'why', 'unless', 'amongst', 'down'}\n",
      "326\n"
     ]
    }
   ],
   "source": [
    "print(nlp.Defaults.stop_words)\n",
    "print(len(nlp.Defaults.stop_words))"
   ]
  },
  {
   "cell_type": "code",
   "execution_count": 11,
   "metadata": {},
   "outputs": [],
   "source": [
    "df[\"Title_Tokens_Lower_not_start\"] = df[\"Title_Tokens\"].apply(\n",
    "    lambda tokens: nlp(\" \".join([t.text if t.is_sent_start else t.lower_ for t in tokens]))\n",
    ")"
   ]
  },
  {
   "cell_type": "code",
   "execution_count": 12,
   "metadata": {},
   "outputs": [],
   "source": [
    "df[\"Title_Tokens_Lower_not_start_no_sw\"] = df[\"Title_Tokens_Lower_not_start\"].apply(lambda tokens: [t for t in tokens if not t.is_stop])"
   ]
  },
  {
   "cell_type": "code",
   "execution_count": 13,
   "metadata": {},
   "outputs": [
    {
     "data": {
      "text/plain": [
       "0       (Two, -, dimensional, metallic, state, in, sil...\n",
       "1       (ELECTRICAL, properties, of, nonstoichiometric...\n",
       "2       (Hierarchical, architecture, of, res2, /, rgo,...\n",
       "3       (Synthesis, and, characterization, of, smsrco2...\n",
       "4       (VO2, thin, films, fabricated, by, reduction, ...\n",
       "                              ...                        \n",
       "4995    (Zintl, phases, :, from, curiosities, to, impa...\n",
       "4996    (Ultrathin, metallic, -, phase, molybdenum, di...\n",
       "4997    (Progress, in, electric, field, control, of, m...\n",
       "4998    (Thermal, transport, in, zno, nanocrystal, net...\n",
       "4999    (Scattering, mechanisms, in, shallow, undoped,...\n",
       "Name: Title_Tokens_Lower_not_start, Length: 5000, dtype: object"
      ]
     },
     "execution_count": 13,
     "metadata": {},
     "output_type": "execute_result"
    }
   ],
   "source": [
    "df[\"Title_Tokens_Lower_not_start\"]"
   ]
  },
  {
   "cell_type": "code",
   "execution_count": 14,
   "metadata": {},
   "outputs": [
    {
     "data": {
      "text/plain": [
       "0       [-, dimensional, metallic, state, silicon, -, ...\n",
       "1       [ELECTRICAL, properties, nonstoichiometric, in...\n",
       "2       [Hierarchical, architecture, res2, /, rgo, com...\n",
       "3       [Synthesis, characterization, smsrco2, -, xmnx...\n",
       "4       [VO2, thin, films, fabricated, reduction, ther...\n",
       "                              ...                        \n",
       "4995    [Zintl, phases, :, curiosities, impactful, mat...\n",
       "4996    [Ultrathin, metallic, -, phase, molybdenum, di...\n",
       "4997    [Progress, electric, field, control, magnetism...\n",
       "4998    [Thermal, transport, zno, nanocrystal, network...\n",
       "4999    [Scattering, mechanisms, shallow, undoped, si,...\n",
       "Name: Title_Tokens_Lower_not_start_no_sw, Length: 5000, dtype: object"
      ]
     },
     "execution_count": 14,
     "metadata": {},
     "output_type": "execute_result"
    }
   ],
   "source": [
    "df[\"Title_Tokens_Lower_not_start_no_sw\"]"
   ]
  },
  {
   "cell_type": "code",
   "execution_count": 15,
   "metadata": {},
   "outputs": [],
   "source": [
    "df[\"Title_Tokens_Lower_not_start_no_sw_filtered\"] = df[\"Title_Tokens_Lower_not_start_no_sw\"].apply(lambda tokens: [t for t in tokens if not t.is_punct and \"-\" not in t.text])"
   ]
  },
  {
   "cell_type": "code",
   "execution_count": 16,
   "metadata": {},
   "outputs": [
    {
     "data": {
      "text/plain": [
       "0       [dimensional, metallic, state, silicon, insula...\n",
       "1       [ELECTRICAL, properties, nonstoichiometric, in...\n",
       "2       [Hierarchical, architecture, res2, rgo, compos...\n",
       "3       [Synthesis, characterization, smsrco2, xmnxo5+...\n",
       "4       [VO2, thin, films, fabricated, reduction, ther...\n",
       "                              ...                        \n",
       "4995    [Zintl, phases, curiosities, impactful, materi...\n",
       "4996    [Ultrathin, metallic, phase, molybdenum, disul...\n",
       "4997    [Progress, electric, field, control, magnetism...\n",
       "4998    [Thermal, transport, zno, nanocrystal, network...\n",
       "4999    [Scattering, mechanisms, shallow, undoped, si,...\n",
       "Name: Title_Tokens_Lower_not_start_no_sw_filtered, Length: 5000, dtype: object"
      ]
     },
     "execution_count": 16,
     "metadata": {},
     "output_type": "execute_result"
    }
   ],
   "source": [
    "df[\"Title_Tokens_Lower_not_start_no_sw_filtered\"] "
   ]
  },
  {
   "cell_type": "markdown",
   "metadata": {},
   "source": [
    "## Extracting sentences in abstracts (just for training)"
   ]
  },
  {
   "cell_type": "code",
   "execution_count": 19,
   "metadata": {},
   "outputs": [],
   "source": [
    "# Aplica nlp e extrai sentenças, com verificação de nulos\n",
    "def extract_sentence(text):\n",
    "    if isinstance(text, str):\n",
    "        doc = nlp(text)\n",
    "        return [sent.text for sent in doc.sents]\n",
    "    else:\n",
    "        return []  # ou np.nan, dependendo do que você quiser"
   ]
  },
  {
   "cell_type": "code",
   "execution_count": 20,
   "metadata": {},
   "outputs": [],
   "source": [
    "df[\"Sentences\"] = df[\"Abstract\"].apply(extract_sentence)"
   ]
  },
  {
   "cell_type": "code",
   "execution_count": 21,
   "metadata": {},
   "outputs": [
    {
     "data": {
      "text/plain": [
       "0       [In silicon-on-insulator metal oxide semicondu...\n",
       "1       [Thin films of indium oxide were grown heteroe...\n",
       "2       [Rhenium disulfide (ReS2), a two-dimensional (...\n",
       "3       [Double perovskite SmSrCo2-xMnxO5+delta (SSCM,...\n",
       "4       [VO2 thin films were fabricated by thermal eva...\n",
       "                              ...                        \n",
       "4995    [The synthesis of new compounds and crystal st...\n",
       "4996    [Two-dimensional (2D) ultrathin MoS2 nanosheet...\n",
       "4997    [Using the spin degree of freedom to realize t...\n",
       "4998    [Semiconductor materials with independently co...\n",
       "4999    [We report the magneto-transport study and sca...\n",
       "Name: Sentences, Length: 5000, dtype: object"
      ]
     },
     "execution_count": 21,
     "metadata": {},
     "output_type": "execute_result"
    }
   ],
   "source": []
  },
  {
   "cell_type": "markdown",
   "metadata": {},
   "source": [
    "## Searching for entities"
   ]
  },
  {
   "cell_type": "code",
   "execution_count": 22,
   "metadata": {},
   "outputs": [],
   "source": [
    "import spacy\n",
    "\n",
    "nlp = spacy.load(\"en_core_web_sm\")\n",
    "\n",
    "# Function that extracts entities named on the title\n",
    "def extract_entities(text):\n",
    "    if isinstance(text, str):\n",
    "        doc = nlp(text)\n",
    "        return [(ent.text, ent.label_) for ent in doc.ents]\n",
    "    else:\n",
    "        return []\n",
    "\n",
    "# Aplicar no DataFrame\n",
    "df[\"Entities_Title\"] = df[\"Article Title\"].apply(extract_entities)\n"
   ]
  },
  {
   "cell_type": "code",
   "execution_count": 23,
   "metadata": {},
   "outputs": [
    {
     "data": {
      "text/plain": [
       "0                                       [(Two, CARDINAL)]\n",
       "1                              [(NONSTOICHIOMETRIC, ORG)]\n",
       "2                                                      []\n",
       "3       [(SmSrCo2-xMnxO5+δ, LOC), (0.2, CARDINAL), (0....\n",
       "4                       [(V2O5, PRODUCT), (N2, CARDINAL)]\n",
       "                              ...                        \n",
       "4995                             [(Zintl Phases, PERSON)]\n",
       "4996    [(Ultrathin Metallic-Phase Molybdenum Disulfid...\n",
       "4997                                                   []\n",
       "4998                                         [(ZnO, GPE)]\n",
       "4999                                     [(Si/SiGe, ORG)]\n",
       "Name: Entities_Title, Length: 5000, dtype: object"
      ]
     },
     "execution_count": 23,
     "metadata": {},
     "output_type": "execute_result"
    }
   ],
   "source": [
    "df[\"Entities_Title\"]"
   ]
  },
  {
   "cell_type": "markdown",
   "metadata": {},
   "source": [
    "## Applying POS tagging and Lemmatization"
   ]
  },
  {
   "cell_type": "code",
   "execution_count": 24,
   "metadata": {},
   "outputs": [],
   "source": [
    "df[\"POS_Title\"] = df[\"Article Title\"].apply(lambda text: [(token.text, token.pos_) for token in nlp(text)])\n",
    "df[\"Lemmas\"] = df[\"Article Title\"].apply(lambda text: [token.lemma_ for token in nlp(text)])"
   ]
  },
  {
   "cell_type": "code",
   "execution_count": 25,
   "metadata": {},
   "outputs": [
    {
     "data": {
      "text/plain": [
       "0       [(Two, NUM), (-, PUNCT), (dimensional, ADJ), (...\n",
       "1       [(ELECTRICAL, PROPN), (PROPERTIES, NOUN), (OF,...\n",
       "2       [(Hierarchical, ADJ), (architecture, NOUN), (o...\n",
       "3       [(Synthesis, NOUN), (and, CCONJ), (characteriz...\n",
       "4       [(VO2, PROPN), (thin, ADJ), (films, NOUN), (fa...\n",
       "                              ...                        \n",
       "4995    [(Zintl, PROPN), (Phases, NOUN), (:, PUNCT), (...\n",
       "4996    [(Ultrathin, PROPN), (Metallic, PROPN), (-, PU...\n",
       "4997    [(Progress, NOUN), (in, ADP), (electric, ADJ),...\n",
       "4998    [(Thermal, ADJ), (transport, NOUN), (in, ADP),...\n",
       "4999    [(Scattering, VERB), (mechanisms, NOUN), (in, ...\n",
       "Name: POS_Title, Length: 5000, dtype: object"
      ]
     },
     "execution_count": 25,
     "metadata": {},
     "output_type": "execute_result"
    }
   ],
   "source": [
    "df[\"POS_Title\"]"
   ]
  },
  {
   "cell_type": "code",
   "execution_count": 26,
   "metadata": {},
   "outputs": [
    {
     "data": {
      "text/plain": [
       "0       [two, -, dimensional, metallic, state, in, sil...\n",
       "1       [ELECTRICAL, property, of, NONSTOICHIOMETRIC, ...\n",
       "2       [hierarchical, architecture, of, ReS2, /, rgo,...\n",
       "3       [synthesis, and, characterization, of, SmSrCo2...\n",
       "4       [VO2, thin, film, fabricate, by, reduction, of...\n",
       "                              ...                        \n",
       "4995    [Zintl, phase, :, from, curiosity, to, impactf...\n",
       "4996    [Ultrathin, Metallic, -, Phase, Molybdenum, Di...\n",
       "4997    [progress, in, electric, field, control, of, m...\n",
       "4998    [thermal, transport, in, ZnO, nanocrystal, net...\n",
       "4999    [scatter, mechanism, in, shallow, undope, Si, ...\n",
       "Name: Lemmas, Length: 5000, dtype: object"
      ]
     },
     "execution_count": 26,
     "metadata": {},
     "output_type": "execute_result"
    }
   ],
   "source": [
    "df[\"Lemmas\"]"
   ]
  },
  {
   "cell_type": "markdown",
   "metadata": {},
   "source": [
    "## Trying to extract some patterns"
   ]
  },
  {
   "cell_type": "code",
   "execution_count": 29,
   "metadata": {},
   "outputs": [
    {
     "data": {
      "text/html": [
       "<div>\n",
       "<style scoped>\n",
       "    .dataframe tbody tr th:only-of-type {\n",
       "        vertical-align: middle;\n",
       "    }\n",
       "\n",
       "    .dataframe tbody tr th {\n",
       "        vertical-align: top;\n",
       "    }\n",
       "\n",
       "    .dataframe thead th {\n",
       "        text-align: right;\n",
       "    }\n",
       "</style>\n",
       "<table border=\"1\" class=\"dataframe\">\n",
       "  <thead>\n",
       "    <tr style=\"text-align: right;\">\n",
       "      <th></th>\n",
       "      <th>Article Title</th>\n",
       "      <th>Title_Tokens</th>\n",
       "      <th>Title_Token_Patterns</th>\n",
       "    </tr>\n",
       "  </thead>\n",
       "  <tbody>\n",
       "    <tr>\n",
       "      <th>0</th>\n",
       "      <td>Two-dimensional metallic state in silicon-on-i...</td>\n",
       "      <td>[Two, -, dimensional, metallic, state, in, sil...</td>\n",
       "      <td>{'like_num': ['Two'], 'is_digit': [], 'is_alph...</td>\n",
       "    </tr>\n",
       "    <tr>\n",
       "      <th>1</th>\n",
       "      <td>ELECTRICAL PROPERTIES OF NONSTOICHIOMETRIC In2...</td>\n",
       "      <td>[ELECTRICAL, PROPERTIES, OF, NONSTOICHIOMETRIC...</td>\n",
       "      <td>{'like_num': [], 'is_digit': [], 'is_alpha': [...</td>\n",
       "    </tr>\n",
       "    <tr>\n",
       "      <th>2</th>\n",
       "      <td>Hierarchical architecture of ReS2/rGO composit...</td>\n",
       "      <td>[Hierarchical, architecture, of, ReS2, /, rGO,...</td>\n",
       "      <td>{'like_num': [], 'is_digit': [], 'is_alpha': [...</td>\n",
       "    </tr>\n",
       "    <tr>\n",
       "      <th>3</th>\n",
       "      <td>Synthesis and characterization of SmSrCo2-xMnx...</td>\n",
       "      <td>[Synthesis, and, characterization, of, SmSrCo2...</td>\n",
       "      <td>{'like_num': ['0.2', '0.4', '0.6', '0.8', '1.0...</td>\n",
       "    </tr>\n",
       "    <tr>\n",
       "      <th>4</th>\n",
       "      <td>VO2 thin films fabricated by reduction of ther...</td>\n",
       "      <td>[VO2, thin, films, fabricated, by, reduction, ...</td>\n",
       "      <td>{'like_num': [], 'is_digit': [], 'is_alpha': [...</td>\n",
       "    </tr>\n",
       "  </tbody>\n",
       "</table>\n",
       "</div>"
      ],
      "text/plain": [
       "                                       Article Title  \\\n",
       "0  Two-dimensional metallic state in silicon-on-i...   \n",
       "1  ELECTRICAL PROPERTIES OF NONSTOICHIOMETRIC In2...   \n",
       "2  Hierarchical architecture of ReS2/rGO composit...   \n",
       "3  Synthesis and characterization of SmSrCo2-xMnx...   \n",
       "4  VO2 thin films fabricated by reduction of ther...   \n",
       "\n",
       "                                        Title_Tokens  \\\n",
       "0  [Two, -, dimensional, metallic, state, in, sil...   \n",
       "1  [ELECTRICAL, PROPERTIES, OF, NONSTOICHIOMETRIC...   \n",
       "2  [Hierarchical, architecture, of, ReS2, /, rGO,...   \n",
       "3  [Synthesis, and, characterization, of, SmSrCo2...   \n",
       "4  [VO2, thin, films, fabricated, by, reduction, ...   \n",
       "\n",
       "                                Title_Token_Patterns  \n",
       "0  {'like_num': ['Two'], 'is_digit': [], 'is_alph...  \n",
       "1  {'like_num': [], 'is_digit': [], 'is_alpha': [...  \n",
       "2  {'like_num': [], 'is_digit': [], 'is_alpha': [...  \n",
       "3  {'like_num': ['0.2', '0.4', '0.6', '0.8', '1.0...  \n",
       "4  {'like_num': [], 'is_digit': [], 'is_alpha': [...  "
      ]
     },
     "execution_count": 29,
     "metadata": {},
     "output_type": "execute_result"
    }
   ],
   "source": [
    "def extract_patterns(tokens):\n",
    "    results = {\n",
    "        \"like_num\": [],\n",
    "        \"is_digit\": [],\n",
    "        \"is_alpha\": []\n",
    "    }\n",
    "    for token in tokens:\n",
    "        if token.like_num:\n",
    "            results[\"like_num\"].append(token.text)\n",
    "        if token.is_digit:\n",
    "            results[\"is_digit\"].append(token.text)\n",
    "        if token.is_alpha:\n",
    "            results[\"is_alpha\"].append(token.text)\n",
    "    return results\n",
    "\n",
    "# Applies the functio to the column of tokens already processed\n",
    "df[\"Title_Token_Patterns\"] = df[\"Title_Tokens\"].apply(extract_patterns)\n",
    "\n",
    "# Example\n",
    "df[[\"Article Title\", \"Title_Tokens\", \"Title_Token_Patterns\"]].head()\n"
   ]
  },
  {
   "cell_type": "markdown",
   "metadata": {},
   "source": [
    "## Analyzing the dependencies"
   ]
  },
  {
   "cell_type": "code",
   "execution_count": 30,
   "metadata": {},
   "outputs": [
    {
     "name": "stdout",
     "output_type": "stream",
     "text": [
      "                                       Article Title  \\\n",
      "0  Two-dimensional metallic state in silicon-on-i...   \n",
      "1  ELECTRICAL PROPERTIES OF NONSTOICHIOMETRIC In2...   \n",
      "2  Hierarchical architecture of ReS2/rGO composit...   \n",
      "3  Synthesis and characterization of SmSrCo2-xMnx...   \n",
      "4  VO2 thin films fabricated by reduction of ther...   \n",
      "\n",
      "                                    Dependency_Title  \n",
      "0  [{'text': 'Two', 'dep': 'advmod', 'head': 'dim...  \n",
      "1  [{'text': 'ELECTRICAL', 'dep': 'compound', 'he...  \n",
      "2  [{'text': 'Hierarchical', 'dep': 'amod', 'head...  \n",
      "3  [{'text': 'Synthesis', 'dep': 'ROOT', 'head': ...  \n",
      "4  [{'text': 'VO2', 'dep': 'nmod', 'head': 'films...  \n"
     ]
    }
   ],
   "source": [
    "\n",
    "# Função para extrair dependência sintática de cada token no título\n",
    "def extract_dependencies(tokens):\n",
    "    dependencies = []\n",
    "    for token in tokens:\n",
    "        dependencies.append({\n",
    "            \"text\": token.text,\n",
    "            \"dep\": token.dep_,\n",
    "            \"head\": token.head.text,\n",
    "            \"dep_explained\": spacy.explain(token.dep_)\n",
    "        })\n",
    "    return dependencies\n",
    "\n",
    "# Aplica diretamente à coluna que você já criou com os tokens originais dos títulos\n",
    "df[\"Dependency_Title\"] = df[\"Title_Tokens\"].apply(extract_dependencies)\n",
    "\n",
    "# Exemplo de visualização dos resultados\n",
    "print(df[[\"Article Title\", \"Dependency_Title\"]].head(5))\n"
   ]
  },
  {
   "cell_type": "code",
   "execution_count": 31,
   "metadata": {},
   "outputs": [
    {
     "name": "stdout",
     "output_type": "stream",
     "text": [
      "                                       Article Title  \\\n",
      "0  Two-dimensional metallic state in silicon-on-i...   \n",
      "1  ELECTRICAL PROPERTIES OF NONSTOICHIOMETRIC In2...   \n",
      "2  Hierarchical architecture of ReS2/rGO composit...   \n",
      "3  Synthesis and characterization of SmSrCo2-xMnx...   \n",
      "4  VO2 thin films fabricated by reduction of ther...   \n",
      "\n",
      "                                     Dep_Chave_Title  \n",
      "0  [{'text': 'state', 'dep': 'ROOT', 'head': 'sta...  \n",
      "1  [{'text': 'ELECTRICAL', 'dep': 'compound', 'he...  \n",
      "2  [{'text': 'architecture', 'dep': 'ROOT', 'head...  \n",
      "3  [{'text': 'Synthesis', 'dep': 'ROOT', 'head': ...  \n",
      "4  [{'text': 'films', 'dep': 'nsubj', 'head': 'ev...  \n"
     ]
    }
   ],
   "source": [
    "# Relações que queremos destacar\n",
    "desired_rels = {\"ROOT\", \"nsubj\", \"pobj\", \"attr\", \"dobj\", \"compound\"}\n",
    "\n",
    "def filter_keys_dependencies(tokens):\n",
    "    results = []\n",
    "    for token in tokens:\n",
    "        if token.dep_ in desired_rels:\n",
    "            results.append({\n",
    "                \"text\": token.text,\n",
    "                \"dep\": token.dep_,\n",
    "                \"head\": token.head.text,\n",
    "                \"exp\": spacy.explain(token.dep_)\n",
    "            })\n",
    "    return results\n",
    "\n",
    "# Aplicar no DataFrame usando a coluna original de tokens\n",
    "df[\"Dep_Chave_Title\"] = df[\"Title_Tokens\"].apply(filter_keys_dependencies)\n",
    "\n",
    "# Exibir os primeiros exemplos\n",
    "print(df[[\"Article Title\", \"Dep_Chave_Title\"]].head(5))\n"
   ]
  },
  {
   "cell_type": "code",
   "execution_count": 32,
   "metadata": {},
   "outputs": [
    {
     "name": "stdout",
     "output_type": "stream",
     "text": [
      "                                       Article Title  \\\n",
      "0  Two-dimensional metallic state in silicon-on-i...   \n",
      "1  ELECTRICAL PROPERTIES OF NONSTOICHIOMETRIC In2...   \n",
      "2  Hierarchical architecture of ReS2/rGO composit...   \n",
      "3  Synthesis and characterization of SmSrCo2-xMnx...   \n",
      "4  VO2 thin films fabricated by reduction of ther...   \n",
      "\n",
      "                               HeadOfObject_Patterns  \n",
      "0                                                 []  \n",
      "1  [{'head': 'PROPERTIES', 'head_dep': 'ROOT', 'o...  \n",
      "2  [{'head': 'architecture', 'head_dep': 'ROOT', ...  \n",
      "3  [{'head': 'characterization', 'head_dep': 'con...  \n",
      "4  [{'head': 'reduction', 'head_dep': 'pobj', 'ob...  \n"
     ]
    }
   ],
   "source": [
    "# Função que tenta capturar padrões do tipo \"[HEAD] of [OBJECT]\"\n",
    "def padrao_head_of_objeto(tokens):\n",
    "    padroes = []\n",
    "    for i, token in enumerate(tokens):\n",
    "        if token.text.lower() == \"of\" and i > 0 and i < len(tokens) - 1:\n",
    "            head = tokens[i - 1]\n",
    "            objeto = tokens[i + 1]\n",
    "            padroes.append({\n",
    "                \"head\": head.text,\n",
    "                \"head_dep\": head.dep_,\n",
    "                \"object\": objeto.text,\n",
    "                \"pattern\": f\"{head.text} of {objeto.text}\"\n",
    "            })\n",
    "    return padroes\n",
    "\n",
    "# Aplicar no DataFrame\n",
    "df[\"HeadOfObject_Patterns\"] = df[\"Title_Tokens\"].apply(padrao_head_of_objeto)\n",
    "\n",
    "# Exibir exemplos\n",
    "print(df[[\"Article Title\", \"HeadOfObject_Patterns\"]].head(5))\n"
   ]
  },
  {
   "cell_type": "code",
   "execution_count": 33,
   "metadata": {},
   "outputs": [
    {
     "name": "stdout",
     "output_type": "stream",
     "text": [
      "Frequências de relações sintáticas (dep_):\n",
      "compound → 16956\n",
      "pobj     → 9875\n",
      "prep     → 9474\n",
      "amod     → 9252\n",
      "punct    → 9139\n",
      "ROOT     → 5136\n",
      "conj     → 3134\n",
      "cc       → 2650\n",
      "nmod     → 2481\n",
      "det      → 2141\n"
     ]
    }
   ],
   "source": [
    "from collections import Counter\n",
    "\n",
    "# Junta todos os dep_ em uma lista só\n",
    "todos_dep = df[\"Title_Tokens\"].explode().dropna().apply(lambda t: t.dep_)\n",
    "\n",
    "# Conta as frequências\n",
    "frequencia_dep = Counter(todos_dep)\n",
    "\n",
    "# Mostra as mais comuns\n",
    "print(\"Frequências de relações sintáticas (dep_):\")\n",
    "for dep, freq in frequencia_dep.most_common(10):\n",
    "    print(f\"{dep:<8} → {freq}\")\n"
   ]
  },
  {
   "cell_type": "code",
   "execution_count": 34,
   "metadata": {},
   "outputs": [],
   "source": [
    "# Função para contar as dependências relevantes por título\n",
    "def contar_dep_por_titulo(tokens):\n",
    "    contagem = {\"ROOT\": 0, \"nsubj\": 0, \"pobj\": 0, \"compound\": 0, \"attr\": 0, \"dobj\": 0}\n",
    "    for token in tokens:\n",
    "        if token.dep_ in contagem:\n",
    "            contagem[token.dep_] += 1\n",
    "    return contagem\n",
    "\n",
    "# Cria nova coluna com as contagens\n",
    "df[\"Dep_Counts\"] = df[\"Title_Tokens\"].apply(contar_dep_por_titulo)\n",
    "\n",
    "# Conta quantos padrões \"X of Y\" aparecem por título\n",
    "df[\"Num_HeadOfObject\"] = df[\"HeadOfObject_Patterns\"].apply(len)\n"
   ]
  },
  {
   "cell_type": "code",
   "execution_count": 35,
   "metadata": {},
   "outputs": [
    {
     "name": "stdout",
     "output_type": "stream",
     "text": [
      "                                       Article Title  ROOT  nsubj  pobj  \\\n",
      "0  Two-dimensional metallic state in silicon-on-i...     1      0     2   \n",
      "1  ELECTRICAL PROPERTIES OF NONSTOICHIOMETRIC In2...     1      0     1   \n",
      "2  Hierarchical architecture of ReS2/rGO composit...     1      0     3   \n",
      "3  Synthesis and characterization of SmSrCo2-xMnx...     1      0     2   \n",
      "4  VO2 thin films fabricated by reduction of ther...     1      1     3   \n",
      "5  A comparative study on atomic layer deposited ...     1      1     1   \n",
      "6  Emergence of two-dimensional nanomaterials-bas...     1      0     3   \n",
      "7  MIT characteristic of VO2 thin film deposited ...     1      0     2   \n",
      "8  Composite fermions without a magnetic field: A...     1      0     5   \n",
      "9  2D Insulator-Metal Transition in Aerosol-Jet-P...     1      0     1   \n",
      "\n",
      "   compound  attr  dobj  Num_HeadOfObject  \n",
      "0         0     0     0                 0  \n",
      "1         2     0     0                 1  \n",
      "2         3     0     0                 1  \n",
      "3         4     0     0                 1  \n",
      "4         0     0     1                 1  \n",
      "5         2     0     1                 0  \n",
      "6         1     0     0                 2  \n",
      "7         3     0     1                 1  \n",
      "8         4     0     0                 0  \n",
      "9        10     0     0                 0  \n"
     ]
    }
   ],
   "source": [
    "# Expande os dicionários da coluna Dep_Counts em colunas separadas\n",
    "df_dep_features = pd.DataFrame(df[\"Dep_Counts\"].to_list())\n",
    "\n",
    "# Adiciona a contagem de \"X of Y\"\n",
    "df_dep_features[\"Num_HeadOfObject\"] = df[\"Num_HeadOfObject\"]\n",
    "\n",
    "# Junta com o título para referência\n",
    "df_features = pd.concat([df[\"Article Title\"], df_dep_features], axis=1)\n",
    "\n",
    "# Exibe amostra\n",
    "print(df_features.head(10))\n"
   ]
  },
  {
   "cell_type": "markdown",
   "metadata": {},
   "source": [
    "## Setting the basis column to Abstracts, creating a new column w/ new docs "
   ]
  },
  {
   "cell_type": "code",
   "execution_count": 36,
   "metadata": {},
   "outputs": [],
   "source": [
    "# Cria uma coluna com todos os docs (abstracts inteiros)\n",
    "df[\"Doc_Abstract\"] = df[\"Abstract\"].fillna(\"\").apply(nlp)"
   ]
  },
  {
   "cell_type": "markdown",
   "metadata": {},
   "source": [
    "## Identifying materials names  w/ PhraseMatcher"
   ]
  },
  {
   "cell_type": "code",
   "execution_count": 71,
   "metadata": {},
   "outputs": [
    {
     "name": "stdout",
     "output_type": "stream",
     "text": [
      "     Frequência  count\n",
      "0           ZnO   1414\n",
      "1           VO2   1030\n",
      "2          TiO2    847\n",
      "3          MoS2    837\n",
      "4      graphene    443\n",
      "...         ...    ...\n",
      "1022       RUO2      1\n",
      "1023       v(-1      1\n",
      "1024        yO3      1\n",
      "1025       SNO2      1\n",
      "1026         o2      1\n",
      "\n",
      "[1027 rows x 2 columns]\n"
     ]
    }
   ],
   "source": [
    "from spacy.matcher import PhraseMatcher\n",
    "from collections import Counter\n",
    "\n",
    "\n",
    "# === Passo 1: Filtra materiais com base na frequência de palavras tipo fórmula ===\n",
    "\n",
    "def extrair_tokens_de_material(doc):\n",
    "    return [\n",
    "        token.text for token in doc\n",
    "        if (any(char.isdigit() for char in token.text) or \"/\" in token.text)\n",
    "        and token.is_alpha is False  # remove palavras comuns como \"materials\"\n",
    "        and token.text.strip() not in {\"1\", \"2\", \"3\", \"4\", \"5\", \"/\", \"-\", \"0\", \"10\", \"100\", \"300\", \"20\", \"2D\", \"3d\", \"cm(2\",\n",
    "         \"3D\", \"tin\", \"30\", \"50\", \"0.5\", \"400\", \"200\", \"0.2\", \"cm(-2\", \"500\", \"0.1\", \"400\", \"40\", \"60\", \"and/or\", \"800\", \"25\"}\n",
    "        and len(token.text.strip()) > 1  # evita tokens de um único caractere]\n",
    "    ]\n",
    "\n",
    "# Aplica nos abstracts\n",
    "df[\"Possiveis_Materiais\"] = df[\"Doc_Abstract\"].apply(extrair_tokens_de_material)\n",
    "\n",
    "# Conta frequências\n",
    "todas_ocorrencias = df[\"Possiveis_Materiais\"].explode()\n",
    "contagem = Counter(todas_ocorrencias)\n",
    "\n",
    "# Seleciona os mais frequentes\n",
    "materiais_frequentes = [mat for mat, count in contagem.items() if count >= 5 and len(mat) <= 15]\n",
    "\n",
    "# === Passo 2: Define materiais técnicos relevantes adicionais (por domínio) ===\n",
    "materiais_complementares = [\n",
    "    \"SnO2\", \"WO3\", \"TiO2\", \"CdSe\", \"Al2O3\", \"InP\", \"GaN\", \"CdTe\", \"ZnTe\", \"PbTe\", \"HgTe\", \"InSb\", \"GeSn\",\n",
    "    \"Bi2Te3\", \"Sb2Te3\", \"Bi2Se3\", \"Black Phosphorus\", \"WS2\", \"WSe2\", \"NbSe2\", \"NbS2\", \"Boron Nitride\",\n",
    "    \"CuO\", \"Cu2O\", \"SrTiO3\", \"BaTiO3\", \"LaAlO3\", \"Cr2O3\", \"NiO\", \"MgO\", \"SnS2\", \"HfO2\", \"Ta2O5\", \"TiN\", \"TaN\", \"O2\", \"nanotube\"\n",
    "]\n",
    "\n",
    "# Combina com os materiais já usados anteriormente\n",
    "materiais_base = [\"ReS2\", \"MoS2\", \"VO2\", \"ZnO\", \"Si/SiGe\", \"GaAs\", \"Graphene\", \"rGO\", \"V2O5\", \"In2O3\", \"SmSrCo2-xMnxO5+δ\"]\n",
    "materiais_finais = list(set(materiais_base + materiais_frequentes + materiais_complementares))\n",
    "\n",
    "# === Passo 3: Usa PhraseMatcher para buscar ===\n",
    "matcher = PhraseMatcher(nlp.vocab, attr=\"LOWER\")\n",
    "patterns = [nlp.make_doc(mat) for mat in materiais_finais]\n",
    "matcher.add(\"MATERIAL\", patterns)\n",
    "\n",
    "# Função para aplicar o matcher\n",
    "def match_materiais(doc):\n",
    "    matches = matcher(doc)\n",
    "    return [doc[start:end].text for match_id, start, end in matches]\n",
    "\n",
    "# Aplica no DataFrame\n",
    "df[\"Materiais_Encontrados\"] = df[\"Doc_Abstract\"].apply(match_materiais)\n",
    "\n",
    "# Prepara a lista final de materiais mais encontrados\n",
    "materiais_contados = df[\"Materiais_Encontrados\"].explode().value_counts()\n",
    "\n",
    "# Ordena por frequência decrescente\n",
    "materiais_contados = df[\"Materiais_Encontrados\"].explode().value_counts()\n",
    "\n",
    "# Cria um novo DataFrame formatado\n",
    "materiais_df = materiais_contados.reset_index().rename(columns={\"index\": \"Material\", \"Materiais_Encontrados\": \"Frequência\"})\n",
    "\n",
    "# Exibe os dados\n",
    "print(materiais_df)\n",
    "\n"
   ]
  },
  {
   "cell_type": "code",
   "execution_count": 72,
   "metadata": {},
   "outputs": [
    {
     "data": {
      "image/png": "[encoded data removed]",
      "text/plain": [
       "<Figure size 1000x600 with 1 Axes>"
      ]
     },
     "metadata": {},
     "output_type": "display_data"
    }
   ],
   "source": [
    "import matplotlib.pyplot as plt\n",
    "import pandas as pd\n",
    "\n",
    "# Garante que a Series está formatada corretamente como DataFrame\n",
    "top_materiais = materiais_contados.sort_values(ascending=False).head(30).reset_index()\n",
    "top_materiais.columns = [\"Material\", \"Frequência\"]  # renomeia as colunas\n",
    "\n",
    "# Gráfico de barras horizontais\n",
    "plt.figure(figsize=(10, 6))\n",
    "plt.barh(top_materiais[\"Material\"], top_materiais[\"Frequência\"], color=\"skyblue\")\n",
    "plt.xlabel(\"Frequência nos Abstracts\")\n",
    "plt.title(\"30 Materiais Mais Frequentes nos Abstracts\")\n",
    "plt.gca().invert_yaxis()  # materiais mais frequentes no topo\n",
    "plt.tight_layout()\n",
    "plt.show()\n"
   ]
  },
  {
   "cell_type": "code",
   "execution_count": 73,
   "metadata": {},
   "outputs": [
    {
     "data": {
      "image/png": "[encoded data removed]",
      "text/plain": [
       "<Figure size 1000x600 with 1 Axes>"
      ]
     },
     "metadata": {},
     "output_type": "display_data"
    }
   ],
   "source": [
    "from collections import Counter\n",
    "from itertools import tee\n",
    "\n",
    "# Função para gerar bigramas\n",
    "def generate_bigrams(tokens):\n",
    "    a, b = tee(tokens)\n",
    "    next(b, None)\n",
    "    return list(zip(a, b))\n",
    "\n",
    "# Gera bigramas de abstracts tokenizados\n",
    "all_bigrams = []\n",
    "for text in df[\"Abstract\"].dropna():\n",
    "    doc = nlp(text)\n",
    "    tokens = [t.text.lower() for t in doc if t.is_alpha and not t.is_stop]\n",
    "    all_bigrams.extend(generate_bigrams(tokens))\n",
    "\n",
    "# Conta os bigramas mais comuns\n",
    "bigrams_freq = Counter(all_bigrams).most_common(20)\n",
    "\n",
    "# Converte para visualização\n",
    "bigram_labels = [f\"{w1} {w2}\" for (w1, w2), _ in bigrams_freq]\n",
    "bigram_values = [freq for _, freq in bigrams_freq]\n",
    "\n",
    "# Gráfico\n",
    "plt.figure(figsize=(10, 6))\n",
    "plt.barh(bigram_labels, bigram_values)\n",
    "plt.xlabel(\"Frequência\")\n",
    "plt.title(\"20 Bigramas Mais Frequentes nos Abstracts\")\n",
    "plt.gca().invert_yaxis()\n",
    "plt.tight_layout()\n",
    "plt.show()\n"
   ]
  },
  {
   "cell_type": "code",
   "execution_count": 75,
   "metadata": {},
   "outputs": [
    {
     "data": {
      "text/plain": [
       "0                                    [000, cm(2)/V, 2003]\n",
       "1                                                      []\n",
       "2       [ReS2, ReS2, ReS2, graphene, rGO, ReS2, rGO, R...\n",
       "3       [x=0.0, 0.4, 0.6, 0.8, 1.0, 0.0, 1.0, 950, x=0...\n",
       "4                        [VO2, V2O5, N-2, 45, 1550, 2021]\n",
       "                              ...                        \n",
       "4995                                             [13, 15]\n",
       "4996    [MoS2, 2H, MoS2, MoS2, MoS2, MoS2, nanotube, M...\n",
       "4997                                               [2000]\n",
       "4998                             [ZnO, Al2O3, ZnO, Al2O3]\n",
       "4999                            [Si/SiGe, 2.3, 2015, 3.0]\n",
       "Name: Materiais_Encontrados, Length: 5000, dtype: object"
      ]
     },
     "execution_count": 75,
     "metadata": {},
     "output_type": "execute_result"
    }
   ],
   "source": [
    "df[\"Materiais_Encontrados\"]"
   ]
  },
  {
   "cell_type": "code",
   "execution_count": null,
   "metadata": {},
   "outputs": [],
   "source": []
  }
 ],
 "metadata": {
  "kernelspec": {
   "display_name": "Python 3.10.8 64-bit",
   "language": "python",
   "name": "python3"
  },
  "language_info": {
   "codemirror_mode": {
    "name": "ipython",
    "version": 3
   },
   "file_extension": ".py",
   "mimetype": "text/x-python",
   "name": "python",
   "nbconvert_exporter": "python",
   "pygments_lexer": "ipython3",
   "version": "3.10.8"
  },
  "orig_nbformat": 4,
  "vscode": {
   "interpreter": {
    "hash": "26de051ba29f2982a8de78e945f0abaf191376122a1563185a90213a26c5da77"
   }
  }
 },
 "nbformat": 4,
 "nbformat_minor": 2
}
